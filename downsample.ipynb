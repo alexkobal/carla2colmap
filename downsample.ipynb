{
 "cells": [
  {
   "cell_type": "code",
   "execution_count": 1,
   "id": "e1ba0812",
   "metadata": {},
   "outputs": [],
   "source": [
    "import os\n",
    "import glob\n",
    "import shutil\n",
    "from matplotlib import projections\n",
    "import numpy as np\n",
    "import pandas as pd\n",
    "import matplotlib.pyplot as plt\n",
    "import sys\n",
    "sys.path.insert(1, \"../GIT/colmap/scripts/python\") #needed for colmap database reading\n",
    "from database import COLMAPDatabase\n",
    "from carla2colmap import DataConverter"
   ]
  },
  {
   "cell_type": "code",
   "execution_count": 2,
   "id": "70217d16",
   "metadata": {},
   "outputs": [],
   "source": [
    "dir = './images'\n",
    "# Check whether the specified path exists or not\n",
    "if not os.path.exists(dir):\n",
    "    os.mkdir(dir)\n",
    "# remove all files in downsampled dir\n",
    "for f in os.listdir(dir):\n",
    "    os.remove(os.path.join(dir, f))\n",
    "\n",
    "monopoint_path = './monopointcloud/'\n",
    "# collecting camera and image data file names\n",
    "files = glob.glob(monopoint_path + '*/semseg/*')\n",
    "cameras = glob.glob(monopoint_path + '*/camera.txt')\n",
    "files.sort()\n",
    "cameras.sort()\n",
    "length = len(files)\n",
    "\n",
    "# Constructiong data frames\n",
    "mp_cams = pd.DataFrame()\n",
    "for c in cameras:\n",
    "    mp_cams = pd.concat([mp_cams, pd.read_csv(c, sep=' ', \n",
    "                                              names=['x', 'y', 'z', 'pitch', 'yaw', 'roll'])])\n",
    "\n",
    "mp_cams['img_file'] = files"
   ]
  },
  {
   "cell_type": "code",
   "execution_count": 3,
   "id": "a1632366",
   "metadata": {},
   "outputs": [],
   "source": [
    "mp_cams['camera_id'] = 1\n",
    "\n",
    "image_names = np.arange(0, len(mp_cams))\n",
    "image_names = image_names.astype('str')\n",
    "image_names = np.char.zfill(image_names, 5)\n",
    "image_names = np.char.add(image_names, np.full((len(mp_cams)), '.png'))\n",
    "mp_cams['image_name'] = image_names"
   ]
  },
  {
   "cell_type": "code",
   "execution_count": 4,
   "id": "ff9a030e",
   "metadata": {},
   "outputs": [],
   "source": [
    "# Sampling\n",
    "result_sample_num = 32 * 16 # we have 16 folders. This would mean 16 loops each with 32 images\n",
    "ids = np.around(np.linspace(0, mp_cams.shape[0]-1, int(round(result_sample_num, 0))))\n",
    "ids = ids.astype(\"int\")\n",
    "\n",
    "# sample and write raw image data\n",
    "selected = mp_cams.iloc[ids].copy()\n",
    "\n",
    "# copy sampled images to images folder\n",
    "for index, row in selected.iterrows():\n",
    "    shutil.copy(row['img_file'], dir + '/' + row['image_name'])\n",
    "\n",
    "# IMAGE_ID, QW, QX, QY, QZ, TX, TY, TZ, CAMERA_ID, NAME\n",
    "#selected['image_id'] = np.arange(1, result_sample_num+1)\n",
    "\n",
    "# we need the image_id to match to those in the database\n",
    "db = COLMAPDatabase.connect('./database.db')\n",
    "colmap_df = pd.read_sql_query(\"SELECT * FROM images\", db)\n",
    "colmap_df = colmap_df[['image_id', 'name']]\n",
    "\n",
    "selected = selected.merge(colmap_df, how='left', left_on='image_name', right_on='name')"
   ]
  },
  {
   "cell_type": "code",
   "execution_count": 5,
   "id": "d0434b47",
   "metadata": {},
   "outputs": [],
   "source": [
    "selected.loc[:, ['qw', 'qx', 'qy', 'qz', 'tx', 'ty', 'tz']] \\\n",
    "    = DataConverter.convert(selected.loc[:, ['x', 'y', 'z', 'pitch', 'yaw', 'roll']].to_numpy(copy=True))"
   ]
  },
  {
   "cell_type": "code",
   "execution_count": 6,
   "id": "7e7bb208",
   "metadata": {},
   "outputs": [],
   "source": [
    "# generate csv\n",
    "selected = selected[['image_id', 'qw', 'qx', 'qy', 'qz', 'tx', 'ty', 'tz', 'camera_id', 'image_name']]\n",
    "selected.to_csv('./sparse/model/raw_images.csv', sep=' ', header=False, index=False)"
   ]
  }
 ],
 "metadata": {
  "kernelspec": {
   "display_name": "Python 3.9.5 64-bit",
   "language": "python",
   "name": "python3"
  },
  "language_info": {
   "codemirror_mode": {
    "name": "ipython",
    "version": 3
   },
   "file_extension": ".py",
   "mimetype": "text/x-python",
   "name": "python",
   "nbconvert_exporter": "python",
   "pygments_lexer": "ipython3",
   "version": "3.9.5"
  },
  "vscode": {
   "interpreter": {
    "hash": "11938c6bc6919ae2720b4d5011047913343b08a43b18698fd82dedb0d4417594"
   }
  }
 },
 "nbformat": 4,
 "nbformat_minor": 5
}
