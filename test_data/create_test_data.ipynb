{
 "cells": [
  {
   "cell_type": "code",
   "execution_count": 236,
   "metadata": {},
   "outputs": [],
   "source": [
    "import pandas as pd\n",
    "import numpy as np\n",
    "from scipy.spatial.transform import Rotation"
   ]
  },
  {
   "cell_type": "code",
   "execution_count": 237,
   "metadata": {},
   "outputs": [
    {
     "name": "stdout",
     "output_type": "stream",
     "text": [
      "(100, 3)\n",
      "(100, 3)\n",
      "(100, 6)\n"
     ]
    }
   ],
   "source": [
    "# creating empty data\n",
    "n_cameras = 100\n",
    "T = np.zeros((n_cameras, 3))\n",
    "eR = np.zeros((n_cameras, 3))\n",
    "print(T.shape)\n",
    "print(eR.shape)\n",
    "data = np.hstack((T, eR))\n",
    "print(data.shape)\n",
    "df = pd.DataFrame(data, columns=('z', 'x', 'y', 'pitch', 'yaw', 'roll')) #zxy coordinate order (colmap)\n",
    "df.to_csv('./straight.csv', sep=' ', header=False)"
   ]
  },
  {
   "cell_type": "code",
   "execution_count": 238,
   "metadata": {},
   "outputs": [],
   "source": [
    "#data manipulation\n",
    "# translation (spiral)\n",
    "a = 1\n",
    "t = np.linspace(0, 6 * np.pi, n_cameras)\n",
    "df.z = a*t*np.cos(t)\n",
    "df.x = a*t*np.sin(t)\n",
    "# angle (rotation based on the spiral)\n",
    "df.yaw = np.rad2deg(t) + 90\n"
   ]
  },
  {
   "cell_type": "code",
   "execution_count": 239,
   "metadata": {},
   "outputs": [],
   "source": [
    "df.yaw = -df.yaw # negate rotation\n",
    "# angle conversions\n",
    "euler_angles = np.array([df.pitch, df.yaw, df.roll]).transpose() # CHANGE pitch and yaw now are in correct order\n",
    "r = Rotation.from_euler('xyz', euler_angles, degrees=True)\n",
    "df['qx'], df['qy'], df['qz'], df['qw'] \\\n",
    "    = r.as_quat().transpose()\n",
    "\n",
    "#filling out required data with none\n",
    "df['image_id'] = np.arange(n_cameras)\n",
    "df['camera_id'] = 1\n",
    "df['image_name'] = 'image.png'\n"
   ]
  },
  {
   "cell_type": "code",
   "execution_count": 240,
   "metadata": {},
   "outputs": [],
   "source": [
    "# matrix conversion for the orientation to be ok\n",
    "T = df.loc[:, ['x', 'y', 'z']].to_numpy()\n",
    "\n",
    "T = r.apply(T)\n",
    "T = -T # the final translation vector needs to be negated (colmap input requirenment)\n",
    "\n",
    "df['tx'], df['ty'], df['tz'] = T.transpose()"
   ]
  },
  {
   "cell_type": "code",
   "execution_count": 241,
   "metadata": {},
   "outputs": [],
   "source": [
    "#writing data\n",
    "selected = df.copy()\n",
    "selected = selected[['image_id', 'qw', 'qx', 'qy', 'qz', 'tx', 'ty', 'tz', 'camera_id', 'image_name']]\n",
    "selected.to_csv('./raw_images.csv', sep=' ', header=False, index=False)"
   ]
  },
  {
   "cell_type": "markdown",
   "metadata": {},
   "source": [
    "Rotation is ok, but the proper order shall be used (pitch, yaw, roll)\n",
    "\n",
    "Translation vector shall be rotated by the rotation matrix (inverse of the inverse)\n",
    "\n",
    "Final translation vector shall be negated (because of the output format)\n",
    "\n",
    "Rotation angles shall be negated\n",
    "\n",
    "Store xyz carla world coordinates shall be stored in zxy colmap world coordinates"
   ]
  }
 ],
 "metadata": {
  "kernelspec": {
   "display_name": "Python 3.9.5 64-bit",
   "language": "python",
   "name": "python3"
  },
  "language_info": {
   "codemirror_mode": {
    "name": "ipython",
    "version": 3
   },
   "file_extension": ".py",
   "mimetype": "text/x-python",
   "name": "python",
   "nbconvert_exporter": "python",
   "pygments_lexer": "ipython3",
   "version": "3.9.5"
  },
  "orig_nbformat": 4,
  "vscode": {
   "interpreter": {
    "hash": "11938c6bc6919ae2720b4d5011047913343b08a43b18698fd82dedb0d4417594"
   }
  }
 },
 "nbformat": 4,
 "nbformat_minor": 2
}
