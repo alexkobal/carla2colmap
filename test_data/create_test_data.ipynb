{
 "cells": [
  {
   "cell_type": "code",
   "execution_count": 310,
   "metadata": {},
   "outputs": [],
   "source": [
    "import pandas as pd\n",
    "import numpy as np\n",
    "from scipy.spatial.transform import Rotation"
   ]
  },
  {
   "cell_type": "code",
   "execution_count": 311,
   "metadata": {},
   "outputs": [
    {
     "name": "stdout",
     "output_type": "stream",
     "text": [
      "(100, 3)\n",
      "(100, 3)\n",
      "(100, 6)\n"
     ]
    }
   ],
   "source": [
    "# creating empty data\n",
    "n_cameras = 100\n",
    "T = np.zeros((n_cameras, 3))\n",
    "eR = np.zeros((n_cameras, 3))\n",
    "print(T.shape)\n",
    "print(eR.shape)\n",
    "data = np.hstack((T, eR))\n",
    "print(data.shape)\n",
    "df = pd.DataFrame(data, columns=('x', 'y', 'z', 'pitch', 'yaw', 'roll')) #zxy coordinate order (colmap)"
   ]
  },
  {
   "cell_type": "code",
   "execution_count": 312,
   "metadata": {},
   "outputs": [],
   "source": [
    "#data manipulation\n",
    "# translation (spiral)\n",
    "a = 1\n",
    "t = np.linspace(0, 6 * np.pi, n_cameras)\n",
    "df.x = a*t*np.cos(t)\n",
    "df.y = a*t*np.sin(t)\n",
    "df.z = np.linspace(0, 6, n_cameras)\n",
    "# angle (rotation based on the spiral)\n",
    "df.yaw = np.rad2deg(t) + 90"
   ]
  },
  {
   "cell_type": "code",
   "execution_count": 313,
   "metadata": {},
   "outputs": [
    {
     "data": {
      "text/html": [
       "<div>\n",
       "<style scoped>\n",
       "    .dataframe tbody tr th:only-of-type {\n",
       "        vertical-align: middle;\n",
       "    }\n",
       "\n",
       "    .dataframe tbody tr th {\n",
       "        vertical-align: top;\n",
       "    }\n",
       "\n",
       "    .dataframe thead th {\n",
       "        text-align: right;\n",
       "    }\n",
       "</style>\n",
       "<table border=\"1\" class=\"dataframe\">\n",
       "  <thead>\n",
       "    <tr style=\"text-align: right;\">\n",
       "      <th></th>\n",
       "      <th>x</th>\n",
       "      <th>y</th>\n",
       "      <th>z</th>\n",
       "    </tr>\n",
       "  </thead>\n",
       "  <tbody>\n",
       "    <tr>\n",
       "      <th>0</th>\n",
       "      <td>0.000000</td>\n",
       "      <td>0.000000</td>\n",
       "      <td>0.000000</td>\n",
       "    </tr>\n",
       "    <tr>\n",
       "      <th>1</th>\n",
       "      <td>0.186959</td>\n",
       "      <td>0.036033</td>\n",
       "      <td>0.060606</td>\n",
       "    </tr>\n",
       "    <tr>\n",
       "      <th>2</th>\n",
       "      <td>0.353522</td>\n",
       "      <td>0.141529</td>\n",
       "      <td>0.121212</td>\n",
       "    </tr>\n",
       "    <tr>\n",
       "      <th>3</th>\n",
       "      <td>0.480523</td>\n",
       "      <td>0.308813</td>\n",
       "      <td>0.181818</td>\n",
       "    </tr>\n",
       "    <tr>\n",
       "      <th>4</th>\n",
       "      <td>0.551195</td>\n",
       "      <td>0.525563</td>\n",
       "      <td>0.242424</td>\n",
       "    </tr>\n",
       "  </tbody>\n",
       "</table>\n",
       "</div>"
      ],
      "text/plain": [
       "          x         y         z\n",
       "0  0.000000  0.000000  0.000000\n",
       "1  0.186959  0.036033  0.060606\n",
       "2  0.353522  0.141529  0.121212\n",
       "3  0.480523  0.308813  0.181818\n",
       "4  0.551195  0.525563  0.242424"
      ]
     },
     "execution_count": 313,
     "metadata": {},
     "output_type": "execute_result"
    }
   ],
   "source": [
    "df.loc[:, ['x', 'y', 'z']].head()"
   ]
  },
  {
   "cell_type": "code",
   "execution_count": 314,
   "metadata": {},
   "outputs": [],
   "source": [
    "xyz = df.loc[:, ['x', 'y', 'z']].to_numpy(copy=True)\n",
    "df.loc[:, ['z', 'x', 'y']] = xyz\n",
    "df.yaw = -df.yaw # negate rotation\n",
    "# angle conversions\n",
    "euler_angles = np.array([df.pitch, df.yaw, df.roll]).transpose() # CHANGE pitch and yaw now are in correct order\n",
    "r = Rotation.from_euler('xyz', euler_angles, degrees=True)\n",
    "df['qx'], df['qy'], df['qz'], df['qw'] \\\n",
    "    = r.as_quat().transpose()\n",
    "\n",
    "#filling out required data with none\n",
    "df['image_id'] = np.arange(n_cameras)\n",
    "df['camera_id'] = 1\n",
    "df['image_name'] = 'image.png'\n"
   ]
  },
  {
   "cell_type": "code",
   "execution_count": 315,
   "metadata": {},
   "outputs": [
    {
     "data": {
      "text/html": [
       "<div>\n",
       "<style scoped>\n",
       "    .dataframe tbody tr th:only-of-type {\n",
       "        vertical-align: middle;\n",
       "    }\n",
       "\n",
       "    .dataframe tbody tr th {\n",
       "        vertical-align: top;\n",
       "    }\n",
       "\n",
       "    .dataframe thead th {\n",
       "        text-align: right;\n",
       "    }\n",
       "</style>\n",
       "<table border=\"1\" class=\"dataframe\">\n",
       "  <thead>\n",
       "    <tr style=\"text-align: right;\">\n",
       "      <th></th>\n",
       "      <th>x</th>\n",
       "      <th>y</th>\n",
       "      <th>z</th>\n",
       "    </tr>\n",
       "  </thead>\n",
       "  <tbody>\n",
       "    <tr>\n",
       "      <th>0</th>\n",
       "      <td>0.000000</td>\n",
       "      <td>0.000000</td>\n",
       "      <td>0.000000</td>\n",
       "    </tr>\n",
       "    <tr>\n",
       "      <th>1</th>\n",
       "      <td>0.036033</td>\n",
       "      <td>0.060606</td>\n",
       "      <td>0.186959</td>\n",
       "    </tr>\n",
       "    <tr>\n",
       "      <th>2</th>\n",
       "      <td>0.141529</td>\n",
       "      <td>0.121212</td>\n",
       "      <td>0.353522</td>\n",
       "    </tr>\n",
       "    <tr>\n",
       "      <th>3</th>\n",
       "      <td>0.308813</td>\n",
       "      <td>0.181818</td>\n",
       "      <td>0.480523</td>\n",
       "    </tr>\n",
       "    <tr>\n",
       "      <th>4</th>\n",
       "      <td>0.525563</td>\n",
       "      <td>0.242424</td>\n",
       "      <td>0.551195</td>\n",
       "    </tr>\n",
       "  </tbody>\n",
       "</table>\n",
       "</div>"
      ],
      "text/plain": [
       "          x         y         z\n",
       "0  0.000000  0.000000  0.000000\n",
       "1  0.036033  0.060606  0.186959\n",
       "2  0.141529  0.121212  0.353522\n",
       "3  0.308813  0.181818  0.480523\n",
       "4  0.525563  0.242424  0.551195"
      ]
     },
     "execution_count": 315,
     "metadata": {},
     "output_type": "execute_result"
    }
   ],
   "source": [
    "df.loc[:, ['x', 'y', 'z']].head()"
   ]
  },
  {
   "cell_type": "code",
   "execution_count": 316,
   "metadata": {},
   "outputs": [],
   "source": [
    "# matrix conversion for the orientation to be ok\n",
    "T = df.loc[:, ['x', 'y', 'z']].to_numpy()\n",
    "\n",
    "T = r.apply(T)\n",
    "T = -T # the final translation vector needs to be negated (colmap input requirenment)\n",
    "\n",
    "df['tx'], df['ty'], df['tz'] = T.transpose()"
   ]
  },
  {
   "cell_type": "code",
   "execution_count": 317,
   "metadata": {},
   "outputs": [],
   "source": [
    "#writing data\n",
    "selected = df.copy()\n",
    "selected = selected[['image_id', 'qw', 'qx', 'qy', 'qz', 'tx', 'ty', 'tz', 'camera_id', 'image_name']]\n",
    "selected.to_csv('./raw_images.csv', sep=' ', header=False, index=False)"
   ]
  },
  {
   "cell_type": "markdown",
   "metadata": {},
   "source": [
    "Rotation is ok, but the proper order shall be used (pitch, yaw, roll)\n",
    "\n",
    "Translation vector shall be rotated by the rotation matrix (inverse of the inverse)\n",
    "\n",
    "Final translation vector shall be negated (because of the output format)\n",
    "\n",
    "Rotation angles shall be negated\n",
    "\n",
    "Store xyz carla world coordinates shall be stored in zxy colmap world coordinates"
   ]
  }
 ],
 "metadata": {
  "kernelspec": {
   "display_name": "Python 3.9.5 64-bit",
   "language": "python",
   "name": "python3"
  },
  "language_info": {
   "codemirror_mode": {
    "name": "ipython",
    "version": 3
   },
   "file_extension": ".py",
   "mimetype": "text/x-python",
   "name": "python",
   "nbconvert_exporter": "python",
   "pygments_lexer": "ipython3",
   "version": "3.9.5"
  },
  "orig_nbformat": 4,
  "vscode": {
   "interpreter": {
    "hash": "11938c6bc6919ae2720b4d5011047913343b08a43b18698fd82dedb0d4417594"
   }
  }
 },
 "nbformat": 4,
 "nbformat_minor": 2
}
